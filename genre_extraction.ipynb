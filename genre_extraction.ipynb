{
 "cells": [
  {
   "cell_type": "code",
   "execution_count": 1,
   "metadata": {},
   "outputs": [],
   "source": [
    "import pandas as pd"
   ]
  },
  {
   "cell_type": "code",
   "execution_count": 14,
   "metadata": {},
   "outputs": [
    {
     "data": {
      "text/plain": [
       "0    1WaFQSHVGZQJTbf0BdxdNo\n",
       "1    1WaFQSHVGZQJTbf0BdxdNo\n",
       "2    1WaFQSHVGZQJTbf0BdxdNo\n",
       "3    1WaFQSHVGZQJTbf0BdxdNo\n",
       "4    56PuDgywHPrbEFyujgPc9V\n",
       "Name: Artist_id, dtype: object"
      ]
     },
     "execution_count": 14,
     "metadata": {},
     "output_type": "execute_result"
    }
   ],
   "source": [
    "# determine the genre with each artist\n",
    "artists_details = pd.read_csv('./Greg_Witt_liked_songs_with_artist_details.csv')\n",
    "\n",
    "artists = artists_details['Artist_id']\n",
    "# extract the unique artists to prevent duplicate api calls.\n",
    "unique_artists = artists.unique()\n"
   ]
  }
 ],
 "metadata": {
  "kernelspec": {
   "display_name": ".venv",
   "language": "python",
   "name": "python3"
  },
  "language_info": {
   "codemirror_mode": {
    "name": "ipython",
    "version": 3
   },
   "file_extension": ".py",
   "mimetype": "text/x-python",
   "name": "python",
   "nbconvert_exporter": "python",
   "pygments_lexer": "ipython3",
   "version": "3.12.3"
  }
 },
 "nbformat": 4,
 "nbformat_minor": 2
}
